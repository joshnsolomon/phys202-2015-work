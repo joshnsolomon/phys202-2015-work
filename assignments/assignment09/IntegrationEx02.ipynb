{
 "cells": [
  {
   "cell_type": "markdown",
   "metadata": {
    "nbgrader": {}
   },
   "source": [
    "# Integration Exercise 2"
   ]
  },
  {
   "cell_type": "markdown",
   "metadata": {
    "nbgrader": {}
   },
   "source": [
    "## Imports"
   ]
  },
  {
   "cell_type": "code",
   "execution_count": 33,
   "metadata": {
    "collapsed": true,
    "nbgrader": {}
   },
   "outputs": [],
   "source": [
    "%matplotlib inline\n",
    "import matplotlib.pyplot as plt\n",
    "import numpy as np\n",
    "import seaborn as sns\n",
    "from scipy import integrate"
   ]
  },
  {
   "cell_type": "markdown",
   "metadata": {
    "nbgrader": {}
   },
   "source": [
    "## Indefinite integrals"
   ]
  },
  {
   "cell_type": "markdown",
   "metadata": {
    "nbgrader": {}
   },
   "source": [
    "Here is a [table of definite integrals](http://en.wikipedia.org/wiki/List_of_definite_integrals). Many of these integrals has a number of parameters $a$, $b$, etc.\n",
    "\n",
    "Find five of these integrals and perform the following steps:\n",
    "\n",
    "1. Typeset the integral using LateX in a Markdown cell.\n",
    "1. Define an `integrand` function that computes the value of the integrand.\n",
    "2. Define an `integral_approx` funciton that uses `scipy.integrate.quad` to peform the integral.\n",
    "3. Define an `integral_exact` function that computes the exact value of the integral.\n",
    "4. Call and print the return value of `integral_approx` and `integral_exact` for one set of parameters.\n",
    "\n",
    "Here is an example to show what your solutions should look like:"
   ]
  },
  {
   "cell_type": "markdown",
   "metadata": {
    "nbgrader": {}
   },
   "source": [
    "### Example"
   ]
  },
  {
   "cell_type": "markdown",
   "metadata": {
    "collapsed": true,
    "nbgrader": {}
   },
   "source": [
    "Here is the integral I am performing:\n",
    "\n",
    "$$ I = \\int_0^\\infty \\frac{dx}{x^2 + a^2} = \\frac{\\pi}{2a} $$"
   ]
  },
  {
   "cell_type": "code",
   "execution_count": 34,
   "metadata": {
    "collapsed": false,
    "nbgrader": {}
   },
   "outputs": [
    {
     "name": "stdout",
     "output_type": "stream",
     "text": [
      "Numerical:  1.5707963267948966\n",
      "Exact    :  1.5707963267948966\n"
     ]
    }
   ],
   "source": [
    "def integrand(x, a):\n",
    "    return 1.0/(x**2 + a**2)\n",
    "\n",
    "def integral_approx(a):\n",
    "    # Use the args keyword argument to feed extra arguments to your integrand\n",
    "    I, e = integrate.quad(integrand, 0, np.inf, args=(a,))\n",
    "    return I\n",
    "\n",
    "def integral_exact(a):\n",
    "    return 0.5*np.pi/a\n",
    "\n",
    "print(\"Numerical: \", integral_approx(1.0))\n",
    "print(\"Exact    : \", integral_exact(1.0))\n"
   ]
  },
  {
   "cell_type": "code",
   "execution_count": 35,
   "metadata": {
    "collapsed": true,
    "nbgrader": {}
   },
   "outputs": [],
   "source": [
    "assert True # leave this cell to grade the above integral"
   ]
  },
  {
   "cell_type": "markdown",
   "metadata": {
    "nbgrader": {}
   },
   "source": [
    "### Integral 1"
   ]
  },
  {
   "cell_type": "markdown",
   "metadata": {
    "deletable": false,
    "nbgrader": {
     "checksum": "e034fc7ac9c38bbb9c7c87db4b6c8e4e",
     "grade": true,
     "grade_id": "integrationex03a",
     "points": 1,
     "solution": true
    }
   },
   "source": [
    "$$  I_1 = \\int_{0}^{\\infty} \\frac{\\sin ^{2}px}{x^{2}}\\ dx=\\frac{\\pi p}{2}  $$\n"
   ]
  },
  {
   "cell_type": "code",
   "execution_count": 36,
   "metadata": {
    "collapsed": false,
    "deletable": false,
    "nbgrader": {
     "checksum": "6cff4e8e53b15273846c3aecaea84a3d",
     "solution": true
    }
   },
   "outputs": [
    {
     "name": "stdout",
     "output_type": "stream",
     "text": [
      "Numerical:  1.5708678849453777\n",
      "Exact    :  1.5707963267948966\n"
     ]
    }
   ],
   "source": [
    "def integrand1(x, p):\n",
    "    return np.sin(p*x)**2/(x**2)\n",
    "\n",
    "def integral_approx1(p):\n",
    "    # Use the args keyword argument to feed extra arguments to your integrand\n",
    "    I, e = integrate.quad(integrand1, 0, np.inf, args=(p,))\n",
    "    return I\n",
    "\n",
    "def integral_exact1(p):\n",
    "    return p*np.pi/2\n",
    "\n",
    "print(\"Numerical: \", integral_approx1(1.0))\n",
    "print(\"Exact    : \", integral_exact1(1.0))"
   ]
  },
  {
   "cell_type": "code",
   "execution_count": 37,
   "metadata": {
    "collapsed": true,
    "deletable": false,
    "nbgrader": {
     "checksum": "b998cb1faa45ae86f0728d51dfa0e45c",
     "grade": true,
     "grade_id": "integrationex03b",
     "points": 1
    }
   },
   "outputs": [],
   "source": [
    "assert True # leave this cell to grade the above integral"
   ]
  },
  {
   "cell_type": "markdown",
   "metadata": {
    "nbgrader": {}
   },
   "source": [
    "### Integral 2"
   ]
  },
  {
   "cell_type": "markdown",
   "metadata": {
    "deletable": false,
    "nbgrader": {
     "checksum": "c3191d99083f6d7cf804f95876e8a624",
     "grade": true,
     "grade_id": "integrationex03c",
     "points": 1,
     "solution": true
    }
   },
   "source": [
    "$$  I_2 = \\int_0^\\infty \\frac {x}{e^{x}-1}\\ dx= \\frac {\\pi^2}{6} $$"
   ]
  },
  {
   "cell_type": "code",
   "execution_count": 38,
   "metadata": {
    "collapsed": false,
    "deletable": false,
    "nbgrader": {
     "checksum": "6cff4e8e53b15273846c3aecaea84a3d",
     "solution": true
    }
   },
   "outputs": [
    {
     "name": "stdout",
     "output_type": "stream",
     "text": [
      "Numerical:  1.6449340668482264\n",
      "Exact    :  1.6449340668482264\n"
     ]
    }
   ],
   "source": [
    "def integrand2(x):\n",
    "    return x/(np.exp(x)-1)\n",
    "\n",
    "def integral_approx2():\n",
    "    # Use the args keyword argument to feed extra arguments to your integrand\n",
    "    I, e = integrate.quad(integrand2, 0, np.inf)\n",
    "    return I\n",
    "\n",
    "def integral_exact2():\n",
    "    return np.pi**2/6\n",
    "\n",
    "print(\"Numerical: \", integral_approx2())\n",
    "print(\"Exact    : \", integral_exact2())"
   ]
  },
  {
   "cell_type": "code",
   "execution_count": 39,
   "metadata": {
    "collapsed": true,
    "deletable": false,
    "nbgrader": {
     "checksum": "4e20de120f0c45ba666f10ba9a6c82d8",
     "grade": true,
     "grade_id": "integrationex03d",
     "points": 1
    }
   },
   "outputs": [],
   "source": [
    "assert True # leave this cell to grade the above integral"
   ]
  },
  {
   "cell_type": "markdown",
   "metadata": {
    "nbgrader": {}
   },
   "source": [
    "### Integral 3"
   ]
  },
  {
   "cell_type": "markdown",
   "metadata": {
    "deletable": false,
    "nbgrader": {
     "checksum": "c65f5242f7fa5525523b89899f6ca251",
     "grade": true,
     "grade_id": "integrationex03e",
     "points": 1,
     "solution": true
    }
   },
   "source": [
    "$$ I_3 = \\int_0^a \\frac{dx}{\\sqrt{a^{2}-x^{2}}}=\\frac{\\pi }{2} $$"
   ]
  },
  {
   "cell_type": "code",
   "execution_count": 40,
   "metadata": {
    "collapsed": false,
    "deletable": false,
    "nbgrader": {
     "checksum": "6cff4e8e53b15273846c3aecaea84a3d",
     "solution": true
    }
   },
   "outputs": [
    {
     "name": "stdout",
     "output_type": "stream",
     "text": [
      "Numerical:  1.570796326793784\n",
      "Exact    :  1.5707963267948966\n"
     ]
    }
   ],
   "source": [
    "def integrand3(x, a):\n",
    "    return 1.0/((a**2-x**2 )**(.5))\n",
    "\n",
    "def integral_approx3(a):\n",
    "    # Use the args keyword argument to feed extra arguments to your integrand\n",
    "    I, e = integrate.quad(integrand3, 0, a, args=(a,))\n",
    "    return I\n",
    "\n",
    "def integral_exact3(a):\n",
    "    return np.pi/2\n",
    "\n",
    "print(\"Numerical: \", integral_approx3(17))\n",
    "print(\"Exact    : \", integral_exact3(17))"
   ]
  },
  {
   "cell_type": "code",
   "execution_count": 41,
   "metadata": {
    "collapsed": true,
    "deletable": false,
    "nbgrader": {
     "checksum": "8c60d256fe8559e423cf8946ae70ba8d",
     "grade": true,
     "grade_id": "integrationex03f",
     "points": 1
    }
   },
   "outputs": [],
   "source": [
    "assert True # leave this cell to grade the above integral"
   ]
  },
  {
   "cell_type": "markdown",
   "metadata": {
    "nbgrader": {}
   },
   "source": [
    "### Integral 4"
   ]
  },
  {
   "cell_type": "markdown",
   "metadata": {
    "deletable": false,
    "nbgrader": {
     "checksum": "3a5d3b2070c78b64152c96681e8e6585",
     "grade": true,
     "grade_id": "integrationex03g",
     "points": 1,
     "solution": true
    }
   },
   "source": [
    "$$ I_4 =\\int_0^\\infty \\frac{x \\sin mx}{x^2+a^2}\\ dx=\\frac{\\pi}{2}e^{-ma} $$"
   ]
  },
  {
   "cell_type": "code",
   "execution_count": 42,
   "metadata": {
    "collapsed": false,
    "deletable": false,
    "nbgrader": {
     "checksum": "6cff4e8e53b15273846c3aecaea84a3d",
     "solution": true
    }
   },
   "outputs": [
    {
     "name": "stdout",
     "output_type": "stream",
     "text": [
      "Numerical:  2.209712068886707\n",
      "Exact    :  1.570794756\n"
     ]
    }
   ],
   "source": [
    "def integrand4(x, m, a):\n",
    "    return (x*np.sin(m*x))/(x**2+a**2)\n",
    "\n",
    "def integral_approx4(m, a):\n",
    "    # Use the args keyword argument to feed extra arguments to your integrand\n",
    "    I, e = integrate.quad(integrand4, 0, np.inf, args=(m,a,))\n",
    "    return I\n",
    "\n",
    "def integral_exact4(m, a):\n",
    "    return (np.pi/2)*np.exp(-1*m*a)\n",
    "\n",
    "print(\"Numerical: \", integral_approx4(.001,.001))\n",
    "print(\"Exact    : \", integral_exact4(.001,.001))"
   ]
  },
  {
   "cell_type": "code",
   "execution_count": 43,
   "metadata": {
    "collapsed": true,
    "deletable": false,
    "nbgrader": {
     "checksum": "88acfb75979c6551c8b3af758cd86acc",
     "grade": true,
     "grade_id": "integrationex03h",
     "points": 1
    }
   },
   "outputs": [],
   "source": [
    "assert True # leave this cell to grade the above integral"
   ]
  },
  {
   "cell_type": "markdown",
   "metadata": {
    "nbgrader": {}
   },
   "source": [
    "### Integral 5"
   ]
  },
  {
   "cell_type": "markdown",
   "metadata": {
    "deletable": false,
    "nbgrader": {
     "checksum": "9dbb9f1159b3c089e60dd167d973cc59",
     "grade": true,
     "grade_id": "integrationex03i",
     "points": 1,
     "solution": true
    }
   },
   "source": [
    "$$ I_5 = \\int_{-\\infty}^\\infty e^{-x^2}\\,dx=\\sqrt{\\pi} $$"
   ]
  },
  {
   "cell_type": "code",
   "execution_count": 44,
   "metadata": {
    "collapsed": false,
    "deletable": false,
    "nbgrader": {
     "checksum": "6cff4e8e53b15273846c3aecaea84a3d",
     "solution": true
    }
   },
   "outputs": [
    {
     "name": "stdout",
     "output_type": "stream",
     "text": [
      "Numerical:  1.7724538509055159\n",
      "Exact    :  1.7724538509055159\n"
     ]
    }
   ],
   "source": [
    "def integrand5(x):\n",
    "    return (np.exp(-1*(x**2)))\n",
    "\n",
    "def integral_approx5():\n",
    "    # Use the args keyword argument to feed extra arguments to your integrand\n",
    "    I, e = integrate.quad(integrand5, -1*np.inf, np.inf)\n",
    "    return I\n",
    "\n",
    "def integral_exact5():\n",
    "    return np.pi**(1/2)\n",
    "\n",
    "print(\"Numerical: \", integral_approx5())\n",
    "print(\"Exact    : \", integral_exact5())"
   ]
  },
  {
   "cell_type": "code",
   "execution_count": 45,
   "metadata": {
    "collapsed": true,
    "deletable": false,
    "nbgrader": {
     "checksum": "34f6cf778698f4b90fdadc09c2a0f120",
     "grade": true,
     "grade_id": "integrationex03j",
     "points": 1
    }
   },
   "outputs": [],
   "source": [
    "assert True # leave this cell to grade the above integral"
   ]
  }
 ],
 "metadata": {
  "kernelspec": {
   "display_name": "Python 3",
   "language": "python",
   "name": "python3"
  },
  "language_info": {
   "codemirror_mode": {
    "name": "ipython",
    "version": 3
   },
   "file_extension": ".py",
   "mimetype": "text/x-python",
   "name": "python",
   "nbconvert_exporter": "python",
   "pygments_lexer": "ipython3",
   "version": "3.4.0"
  }
 },
 "nbformat": 4,
 "nbformat_minor": 0
}
